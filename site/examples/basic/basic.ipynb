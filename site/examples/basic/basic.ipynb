{
 "cells": [
  {
   "cell_type": "markdown",
   "id": "a892fbda",
   "metadata": {},
   "source": [
    "# ipyvizzu-story - basic example"
   ]
  },
  {
   "cell_type": "code",
   "execution_count": null,
   "id": "bff7301a",
   "metadata": {},
   "outputs": [],
   "source": [
    "from ipyvizzu import Data, Config\n",
    "from ipyvizzustory import Story, Slide, Step\n",
    "\n",
    "\n",
    "data = Data()\n",
    "data.add_series(\"Foo\", [\"Alice\", \"Bob\", \"Ted\"])\n",
    "data.add_series(\"Bar\", [15, 32, 12])\n",
    "data.add_series(\"Baz\", [5, 3, 2])\n",
    "\n",
    "story = Story(data=data)\n",
    "\n",
    "slide1 = Slide(\n",
    "    Step(\n",
    "        Config({\"x\": \"Foo\", \"y\": \"Bar\"}),\n",
    "    )\n",
    ")\n",
    "story.add_slide(slide1)\n",
    "\n",
    "slide2 = Slide(\n",
    "    Step(\n",
    "        Config({\"color\": \"Foo\", \"x\": \"Baz\", \"geometry\": \"circle\"}),\n",
    "    )\n",
    ")\n",
    "story.add_slide(slide2)\n",
    "\n",
    "story.play()"
   ]
  }
 ],
 "metadata": {
  "kernelspec": {
   "display_name": ".venv",
   "language": "python",
   "name": ".venv"
  },
  "language_info": {
   "codemirror_mode": {
    "name": "ipython",
    "version": 3
   },
   "file_extension": ".py",
   "mimetype": "text/x-python",
   "name": "python",
   "nbconvert_exporter": "python",
   "pygments_lexer": "ipython3",
   "version": "3.8.10"
  },
  "title": "ipyvizzu-story - basic example"
 },
 "nbformat": 4,
 "nbformat_minor": 5
}
